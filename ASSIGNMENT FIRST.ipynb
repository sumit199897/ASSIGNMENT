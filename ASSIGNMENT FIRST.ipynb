{
 "cells": [
  {
   "cell_type": "code",
   "execution_count": 2,
   "id": "392575c5-cacc-4fe2-8a40-94b44292612b",
   "metadata": {},
   "outputs": [],
   "source": [
    "# WHO DEVELOP THE PYTHON LANGUAGE "
   ]
  },
  {
   "cell_type": "code",
   "execution_count": 3,
   "id": "ceeb7ee3-90ee-44cf-aeb2-0abaffe99474",
   "metadata": {},
   "outputs": [],
   "source": [
    "# GUIDO VAN ROSSUM DEVEOP THE PYTHON LANGUAGE "
   ]
  },
  {
   "cell_type": "code",
   "execution_count": 4,
   "id": "3a570d9b-8fd7-42ad-b092-e8b8fd50cf92",
   "metadata": {},
   "outputs": [],
   "source": [
    "# WHICH TYPE OF PROGRAMING DOES PYTHON SUPPORT"
   ]
  },
  {
   "cell_type": "code",
   "execution_count": 5,
   "id": "3411a90b-2548-4558-9fd9-ee19e2085520",
   "metadata": {},
   "outputs": [],
   "source": [
    "# PYTHON IS A MULTTI-PARADIGM LANGUAGE ITS MAIN LANGUAGE IS OBJECT-ORINTED PROGRAMINING AND STRACTURED PEOGRRAMING"
   ]
  },
  {
   "cell_type": "code",
   "execution_count": 6,
   "id": "a1441c20-4b1c-450d-a712-08e0a84f29ec",
   "metadata": {},
   "outputs": [],
   "source": [
    "# IS PHYTHON CASE SENSITIVE WHEN DEAING WITH IDENTIFIES"
   ]
  },
  {
   "cell_type": "code",
   "execution_count": 7,
   "id": "66883cf3-c18f-4a9c-82d7-78b30661401b",
   "metadata": {},
   "outputs": [],
   "source": [
    "# YES, PYTHON IS CASE SENSITIVE LANGUAGE "
   ]
  },
  {
   "cell_type": "code",
   "execution_count": 8,
   "id": "ce679d91-8276-4594-851b-955401dee53c",
   "metadata": {},
   "outputs": [],
   "source": [
    "# WHAT IS CORRECT EXTENSION OF PYTHON FILES."
   ]
  },
  {
   "cell_type": "code",
   "execution_count": 9,
   "id": "c4273a2a-6d7a-47f9-9e33-7d83a94b0a52",
   "metadata": {},
   "outputs": [],
   "source": [
    "# THIS ARE THE CORRECT EXTENSION OF PYTHON FILES PY,.PYI,.PYC,."
   ]
  },
  {
   "cell_type": "code",
   "execution_count": 10,
   "id": "9e9dd8e9-58bb-4397-88b3-4effea924e20",
   "metadata": {},
   "outputs": [],
   "source": [
    "# IS PYHHON CODE COMPILED OR INTERPRTED"
   ]
  },
  {
   "cell_type": "code",
   "execution_count": 11,
   "id": "1f98d84c-b4ee-4d9d-a892-931110166645",
   "metadata": {},
   "outputs": [],
   "source": [
    "# PYTHON IS AN INTERPRETED LANGUAGE WHICH MEANS THE SOURCES CODE OF A PYTHON PROGRAM IS CONVERTED INTO BY RECODE THAT IS THEN EXECUTED BY THE PYTHON VIRTAL MACHINE"
   ]
  },
  {
   "cell_type": "code",
   "execution_count": 12,
   "id": "8014770a-e94c-4a15-b0aa-83bc35152706",
   "metadata": {},
   "outputs": [],
   "source": [
    "# NAME THE FEW BLOCKS OF CODES USED USED TO DEFINE IN PYTHON LANGUAGE ?"
   ]
  },
  {
   "cell_type": "code",
   "execution_count": 13,
   "id": "bd08dfda-2ef9-42c6-a25a-173c1ea2ea56",
   "metadata": {},
   "outputs": [],
   "source": [
    "# PYTHON PROGRAME IS CONSTRUCTED FROM CODE BOCKS. A BOCKS IS A PIECE OF PYTHON PROGRAM TEXT THAT IS EXECUTED AS A UNIT THIS ARE THE BLOCK OF PYTHON A MODULE, FUNCATION BODY AND A CASS DEFINATION"
   ]
  },
  {
   "cell_type": "code",
   "execution_count": 14,
   "id": "4002771e-0fb3-4c9c-85ee-3b7c3e204949",
   "metadata": {},
   "outputs": [],
   "source": [
    "# STATE A CHARECTER USED TO GIVEN SINGLE INE COMMENT IN PYTHON"
   ]
  },
  {
   "cell_type": "code",
   "execution_count": 15,
   "id": "f7688369-8463-4ab5-882f-ed9297c1f40a",
   "metadata": {},
   "outputs": [],
   "source": [
    "# COMMENT IN PYTHON IDENTIFIED WITH HASH SYMBO \"#\" AND EXTEND TO END OF LIFE"
   ]
  },
  {
   "cell_type": "code",
   "execution_count": 16,
   "id": "0c5d533d-bd67-47d5-bae3-28d5ad4f14dc",
   "metadata": {},
   "outputs": [],
   "source": [
    "# MENTION THE FUNCATION WHICH CAN  HELP US TO FIND THE VERIOUS OF PYTHON THAT WE ARE CURRENTLY WORKING ON  "
   ]
  },
  {
   "cell_type": "code",
   "execution_count": 1,
   "id": "7513e70b-91cc-4a8b-9796-01457d47000d",
   "metadata": {},
   "outputs": [],
   "source": [
    "# THE FUNCTION SYS. VERSION CAN HEP US TO FIND THE VERSION OF THE PYTHON"
   ]
  },
  {
   "cell_type": "code",
   "execution_count": 1,
   "id": "31d9d882-85bb-4b32-afae-a43c40bd72a2",
   "metadata": {},
   "outputs": [],
   "source": [
    "# PYTHON SUPPORT THE CREATION OF ANONYMOUSE FUNCATION AT RUNTIME, USING A CONSTRUCT CALLED \"LAMBDA\""
   ]
  },
  {
   "cell_type": "code",
   "execution_count": 2,
   "id": "6b8d8f75-f233-42e8-9b16-bfe891cf70b5",
   "metadata": {},
   "outputs": [],
   "source": [
    "# WHAT DOES PIP STAND FOR PYTHON?"
   ]
  },
  {
   "cell_type": "code",
   "execution_count": 3,
   "id": "78578ddd-a8d0-4fac-aed3-d8d41a94b165",
   "metadata": {},
   "outputs": [],
   "source": [
    "# PIP IS A REWERSIVE ACRONYM FOR \"PREFERED INSTALLER PROGRAM\" OR PIP INSTALS PACKAGES"
   ]
  },
  {
   "cell_type": "code",
   "execution_count": 4,
   "id": "8cec9fc7-277d-48a4-b79f-c3c24a146193",
   "metadata": {},
   "outputs": [],
   "source": [
    "# MENTION A FEW BUIT IN FUNCATION IN PYTHON?"
   ]
  },
  {
   "cell_type": "markdown",
   "id": "c8f82f8f-4f08-4e24-b8a9-2bffd21bdff1",
   "metadata": {},
   "source": [
    "# The pre-defined built-in function of the python programming language is \n",
    "1. Python abs()- this function is used to generate the absolute value of a number\n",
    "2. Python all()- This python returns true when all the elements in iterable are true\n",
    "3. Python any()- This method is used to check if any Element of an Iterable is True\n",
    "4. Python ascii()- Returns String Containing Printable Representation\n",
    "5. Python float()- returns floating-point number from number, string \n",
    "6. Python int()- from a number or string, returns an integer\n",
    "7. Python str()- returns the string version of the object"
   ]
  },
  {
   "cell_type": "code",
   "execution_count": 3,
   "id": "b9718fc4-7b0e-4ec3-8c2b-455635be1614",
   "metadata": {},
   "outputs": [],
   "source": [
    "# What Is the maximum posslble length of an Identifier In Python?"
   ]
  },
  {
   "cell_type": "code",
   "execution_count": 4,
   "id": "c489f317-fb4b-47a0-aa4d-978b11b4588e",
   "metadata": {},
   "outputs": [],
   "source": [
    "# identifier can have a maximum length of 79 characters in Python."
   ]
  },
  {
   "cell_type": "code",
   "execution_count": 5,
   "id": "e93c409d-a2bd-4a4f-aea3-621665d1b3db",
   "metadata": {},
   "outputs": [],
   "source": [
    "# What are the beneftts of using Python?"
   ]
  },
  {
   "cell_type": "code",
   "execution_count": 7,
   "id": "a18d7697-4cf0-40dc-954d-edd845127a15",
   "metadata": {},
   "outputs": [],
   "source": [
    "# Earning Potential. Python is the second-highest paid computer language, according to Indeed\n",
    "# Ease of Comprehension One of the top benefits of Python is that it is easy to learn and fun to use.\n",
    "# Flexibility Not only is Python easy to learn, but also, its flexible Used in Many Industries."
   ]
  },
  {
   "cell_type": "code",
   "execution_count": 8,
   "id": "c59bc3b4-7c87-4105-afa3-b1fb69053e4d",
   "metadata": {},
   "outputs": [],
   "source": [
    "# How Is memory managed In Python?"
   ]
  },
  {
   "cell_type": "code",
   "execution_count": 9,
   "id": "ec716cb3-34f8-4123-9086-47732f31ee08",
   "metadata": {},
   "outputs": [],
   "source": [
    "# Python uses the dynamic memory allocation which is managed by the Heap data structure\n",
    "# Python memory manager manages the allocation or de-allocation of the heap memory space through the API functions"
   ]
  },
  {
   "cell_type": "code",
   "execution_count": 11,
   "id": "ec1563e1-4c65-4838-b2b4-75d4a2937c3d",
   "metadata": {},
   "outputs": [],
   "source": [
    "# How to Install Python on Windows and sot path variables"
   ]
  },
  {
   "cell_type": "code",
   "execution_count": 13,
   "id": "4b60746b-ccad-41af-884d-857dd370a09f",
   "metadata": {},
   "outputs": [],
   "source": [
    "# Step 1:\n",
    "#Click on This PC\n",
    "# Step 2:\n",
    "# Go to Properties on the menu bar\n",
    "# Step 3:\n",
    "#Choose the Advanced Settings option given on the left hand side as shown in the figure below\n",
    "# Step 4:\n",
    "#Now, click on the button Environment Variables on the bottom right. An environment Variables window will open up as seen in the figure below\n",
    "# Step 5:\n",
    "#You will find a System variables section on the lower part of the Environment Variables window. Choose the Path’ variable from the given list of variables and click on the ‘Edit’ button. Take a look at the figure below for reference\n",
    "# Step 6:\n",
    "#An ‘Edit environment variable’ window will pop us as shown in the figure given below. This window shows you the list of directories that the Path variable currently contains. Click on ‘New’ button given on the right hand side of the window\n",
    "# Step 7:\n",
    "#Write down the location of the Python’s install directory as shown below and click on ‘OK’.\n",
    "# You have successfully added Python to the Path"
   ]
  },
  {
   "cell_type": "code",
   "execution_count": null,
   "id": "f2377fdc-cd3d-4d59-9d99-b161f4307387",
   "metadata": {},
   "outputs": [],
   "source": []
  }
 ],
 "metadata": {
  "kernelspec": {
   "display_name": "Python 3 (ipykernel)",
   "language": "python",
   "name": "python3"
  },
  "language_info": {
   "codemirror_mode": {
    "name": "ipython",
    "version": 3
   },
   "file_extension": ".py",
   "mimetype": "text/x-python",
   "name": "python",
   "nbconvert_exporter": "python",
   "pygments_lexer": "ipython3",
   "version": "3.10.6"
  }
 },
 "nbformat": 4,
 "nbformat_minor": 5
}
